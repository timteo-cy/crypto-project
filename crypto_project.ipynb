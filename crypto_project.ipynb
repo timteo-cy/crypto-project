{
  "nbformat": 4,
  "nbformat_minor": 0,
  "metadata": {
    "colab": {
      "provenance": [],
      "authorship_tag": "ABX9TyMxtUtLiyA5ifM5zG8WulpX",
      "include_colab_link": true
    },
    "kernelspec": {
      "name": "python3",
      "display_name": "Python 3"
    },
    "language_info": {
      "name": "python"
    }
  },
  "cells": [
    {
      "cell_type": "markdown",
      "metadata": {
        "id": "view-in-github",
        "colab_type": "text"
      },
      "source": [
        "<a href=\"https://colab.research.google.com/github/timteo-cy/crypto-project/blob/main/crypto_project.ipynb\" target=\"_parent\"><img src=\"https://colab.research.google.com/assets/colab-badge.svg\" alt=\"Open In Colab\"/></a>"
      ]
    },
    {
      "cell_type": "code",
      "execution_count": 24,
      "metadata": {
        "id": "wKxlIcXhRfec"
      },
      "outputs": [],
      "source": [
        "import requests\n",
        "import pandas as pd\n",
        "from datetime import date"
      ]
    },
    {
      "cell_type": "code",
      "source": [
        "#Initialising API Key from Coin Gecko\n",
        "from google.colab import userdata\n",
        "cgapi = userdata.get('cgapi')"
      ],
      "metadata": {
        "id": "gwXsjfs1TBVD"
      },
      "execution_count": 25,
      "outputs": []
    },
    {
      "cell_type": "markdown",
      "source": [
        "# Crypto Market Cycle Analysis\n",
        "This project explores the dynamics of crypto market cycles using historical data on Bitcoin (BTC), Ethereum (ETH), and the top 10 altcoins (based on market cap) as of 21-09-2025.\n",
        "\n",
        "Assets Covered:\n",
        "\n",
        "BTC, ETH (benchmarks)\n",
        "\n",
        "Altcoins: XRP, BNB, SOL, DOGE, ADA, TRX, LINK, HYPE, AVAX, SUI"
      ],
      "metadata": {
        "id": "rWqd3PqxUhoW"
      }
    },
    {
      "cell_type": "markdown",
      "source": [
        "**Initialisation of data from CoinGecko API into a single dataframe**"
      ],
      "metadata": {
        "id": "zWl-uR7rH5s_"
      }
    },
    {
      "cell_type": "code",
      "source": [
        "# Get daily coin data for the past 365 days for all coins\n",
        "# Ticker and API id was pulled out from the CoinGecko Token API List\n",
        "coins = {\n",
        "    'BTC': 'bitcoin',\n",
        "    'ETH': 'ethereum',\n",
        "    'XRP': 'ripple',\n",
        "    'BNB': 'binancecoin',\n",
        "    'SOL': 'solana',\n",
        "    'DOGE': 'dogecoin',\n",
        "    'ADA': 'cardano',\n",
        "    'TRX': 'tron',\n",
        "    'LINK': 'chainlink',\n",
        "    'HYPE': 'hyperliquid',\n",
        "    'AVAX': 'avalanche-2',\n",
        "    'SUI': 'sui'\n",
        "}\n",
        "\n",
        "df_coins = []\n",
        "\n",
        "for ticker, api_id in coins.items():\n",
        "    url = f\"https://api.coingecko.com/api/v3/coins/{api_id}/market_chart\"\n",
        "    headers = {\"x-cg-demo-api-key\": cgapi }\n",
        "    response = requests.get(url, headers=headers, params = {\"vs_currency\":\"usd\", \"days\": 365})\n",
        "    data = response.json()\n",
        "    df_price = pd.DataFrame(data['prices'] , columns=['unix_timestamp', 'price'])\n",
        "    df_mcap = pd.DataFrame(data['market_caps'] , columns=['unix_timestamp', 'market_cap'])\n",
        "    df_vol = pd.DataFrame(data['total_volumes'] , columns=['unix_timestamp', 'vol_24hr'])\n",
        "\n",
        "    df = df_price.merge(df_mcap, on='unix_timestamp').merge(df_vol, on='unix_timestamp')\n",
        "\n",
        "    df['date'] = pd.to_datetime(df['unix_timestamp'], unit='ms').dt.date\n",
        "    df['ticker'] = ticker\n",
        "    if ticker == 'BTC':\n",
        "      df['type'] = 'BTC'\n",
        "    elif ticker == 'ETH':\n",
        "      df['type'] = 'ETH'\n",
        "    else:\n",
        "      df['type'] = 'Altcoin'\n",
        "    df.drop(columns='unix_timestamp', inplace=True)\n",
        "    df_coins.append(df)\n",
        "\n",
        "df = pd.concat(df_coins).reset_index()\n",
        "df.drop(columns = 'index', inplace = True)\n",
        "df.sort_values(['ticker','date']).reset_index(drop = True)\n",
        "df = df[df['date'] < date.today() ]\n"
      ],
      "metadata": {
        "id": "uV8JLXIRTkqH"
      },
      "execution_count": 26,
      "outputs": []
    },
    {
      "cell_type": "markdown",
      "source": [
        "**Calculating Daily and 7-Day Rolling Returns**"
      ],
      "metadata": {
        "id": "b4l-wKRI1zRO"
      }
    },
    {
      "cell_type": "code",
      "source": [
        "df_returns = df\n",
        "df_returns['daily_return'] = df_returns.groupby('ticker')['price'].pct_change() *100\n",
        "df_returns['rolling_returns'] = df_returns.groupby('ticker')['daily_return'].rolling(window=7).mean().reset_index(level=0, drop=True)\n",
        "df_returns.dropna(inplace = True)"
      ],
      "metadata": {
        "id": "L_RucUNfF-ih"
      },
      "execution_count": 27,
      "outputs": []
    },
    {
      "cell_type": "code",
      "source": [
        "df_returns.to_csv('crypto_returns.csv', index=False)"
      ],
      "metadata": {
        "id": "eOwrM79sLSJ3"
      },
      "execution_count": 28,
      "outputs": []
    },
    {
      "cell_type": "markdown",
      "source": [
        "**Calculating Daily and 7-Day Rolling Returns, taking into consideration Altcoin 'weights' based on the market cap**"
      ],
      "metadata": {
        "id": "LrDOb5O51-MO"
      }
    },
    {
      "cell_type": "code",
      "source": [
        "df_weighted_returns = df_returns\n",
        "if ('BTC', 'ETH') in df_weighted_returns['type']:\n",
        "    df_weighted_returns['weight'] = 1\n",
        "else:\n",
        "    df_weighted_returns['weight'] = df_weighted_returns['market_cap'] / df.groupby(['date', 'type'])['market_cap'].transform('sum')\n"
      ],
      "metadata": {
        "id": "m1IUDWKLtuJQ"
      },
      "execution_count": 29,
      "outputs": []
    },
    {
      "cell_type": "code",
      "source": [
        "df_weighted_returns['weighted_return'] = df_weighted_returns['daily_return'] * df['weight']\n",
        "df_weighted_returns['weighted_rolling_return'] = df_weighted_returns['rolling_returns'] * df['weight']\n",
        "df_weighted_returns = df_weighted_returns.groupby(['date', 'type'])[['weighted_return', 'weighted_rolling_return']].sum().reset_index()"
      ],
      "metadata": {
        "id": "KhT1YOM5xcyL"
      },
      "execution_count": 30,
      "outputs": []
    },
    {
      "cell_type": "code",
      "source": [
        "df_weighted_returns.to_csv('crypto_weighted_returns.csv', index = False)"
      ],
      "metadata": {
        "id": "LhXc1oN7zm3d"
      },
      "execution_count": 31,
      "outputs": []
    },
    {
      "cell_type": "markdown",
      "source": [
        "**Calculating % Market Cap of total market for assets covered in analysis**"
      ],
      "metadata": {
        "id": "uDCU1Fc62KM1"
      }
    },
    {
      "cell_type": "code",
      "source": [
        "df_mcap = df\n",
        "df_mcap = df_mcap.groupby(['type', 'date'])['market_cap'].sum().reset_index()\n",
        "df_mcap['total_daily_mcap'] = df_mcap.groupby('date')['market_cap'].transform('sum')\n",
        "df_mcap['daily_%_mcap'] = (df_mcap['market_cap'] / df_mcap['total_daily_mcap'] * 100.0).round(2)\n"
      ],
      "metadata": {
        "id": "iQN19_capEpD"
      },
      "execution_count": 32,
      "outputs": []
    },
    {
      "cell_type": "code",
      "source": [
        "df_mcap.to_csv('crypto_coin_dominance.csv', index=False)"
      ],
      "metadata": {
        "id": "nWhWgmNDwCXk"
      },
      "execution_count": 33,
      "outputs": []
    },
    {
      "cell_type": "markdown",
      "source": [
        "**Calculating Volume (Total and % of total market)**"
      ],
      "metadata": {
        "id": "bXMQdpq_3rpo"
      }
    },
    {
      "cell_type": "code",
      "source": [
        "df_vol = df\n",
        "df_vol = df_vol.groupby(['type', 'date'])['vol_24hr'].sum().reset_index()\n",
        "df_vol['total_daily_vol'] = df_vol.groupby('date')['vol_24hr'].transform('sum')\n",
        "df_vol['daily_%_vol'] = (df_vol['vol_24hr'] / df_vol['total_daily_vol'] * 100.0).round(2)"
      ],
      "metadata": {
        "id": "J6igP-ylTJCp"
      },
      "execution_count": 34,
      "outputs": []
    },
    {
      "cell_type": "code",
      "source": [
        "df_vol.to_csv('crypto_coin_vol.csv', index=False)"
      ],
      "metadata": {
        "id": "50WzLG65VMlf"
      },
      "execution_count": 35,
      "outputs": []
    }
  ]
}