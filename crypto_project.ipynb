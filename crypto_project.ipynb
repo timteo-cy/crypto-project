{
  "nbformat": 4,
  "nbformat_minor": 0,
  "metadata": {
    "colab": {
      "provenance": [],
      "authorship_tag": "ABX9TyO5Y3ND0cSXdjfrwzgoY+/E",
      "include_colab_link": true
    },
    "kernelspec": {
      "name": "python3",
      "display_name": "Python 3"
    },
    "language_info": {
      "name": "python"
    }
  },
  "cells": [
    {
      "cell_type": "markdown",
      "metadata": {
        "id": "view-in-github",
        "colab_type": "text"
      },
      "source": [
        "<a href=\"https://colab.research.google.com/github/timteo-cy/crypto-project/blob/main/crypto_project.ipynb\" target=\"_parent\"><img src=\"https://colab.research.google.com/assets/colab-badge.svg\" alt=\"Open In Colab\"/></a>"
      ]
    },
    {
      "cell_type": "code",
      "execution_count": null,
      "metadata": {
        "id": "wKxlIcXhRfec"
      },
      "outputs": [],
      "source": [
        "import requests\n",
        "import pandas as pd\n",
        "from datetime import date"
      ]
    },
    {
      "cell_type": "code",
      "source": [
        "#Initialising API Key from Coin Gecko\n",
        "from google.colab import userdata\n",
        "cgapi = userdata.get('cgapi')"
      ],
      "metadata": {
        "id": "gwXsjfs1TBVD"
      },
      "execution_count": null,
      "outputs": []
    },
    {
      "cell_type": "markdown",
      "source": [
        "# Crypto Market Cycle Analysis\n",
        "This project explores the dynamics of crypto market cycles using historical data on Bitcoin (BTC), Ethereum (ETH), and the top 10 altcoins (based on market cap) as of 21-09-2025.\n",
        "\n",
        "Assets Covered:\n",
        "\n",
        "BTC, ETH (benchmarks)\n",
        "\n",
        "Altcoins: XRP, BNB, SOL, DOGE, ADA, TRX, LINK, HYPE, AVAX, SUI"
      ],
      "metadata": {
        "id": "rWqd3PqxUhoW"
      }
    },
    {
      "cell_type": "markdown",
      "source": [
        "**Initialisation of data from CoinGecko API into a single dataframe**"
      ],
      "metadata": {
        "id": "zWl-uR7rH5s_"
      }
    },
    {
      "cell_type": "code",
      "source": [
        "# Get daily coin data for the past 365 days for all coins\n",
        "# Ticker and API id was pulled out from the CoinGecko Token API List\n",
        "coins = {\n",
        "    'BTC': 'bitcoin',\n",
        "    'ETH': 'ethereum',\n",
        "    'XRP': 'ripple',\n",
        "    'BNB': 'binancecoin',\n",
        "    'SOL': 'solana',\n",
        "    'DOGE': 'dogecoin',\n",
        "    'ADA': 'cardano',\n",
        "    'TRX': 'tron',\n",
        "    'LINK': 'chainlink',\n",
        "    'HYPE': 'hyperliquid',\n",
        "    'AVAX': 'avalanche-2',\n",
        "    'SUI': 'sui'\n",
        "}\n",
        "\n",
        "df_coins = []\n",
        "\n",
        "for ticker, api_id in coins.items():\n",
        "    url = f\"https://api.coingecko.com/api/v3/coins/{api_id}/market_chart\"\n",
        "    headers = {\"x-cg-demo-api-key\": cgapi }\n",
        "    response = requests.get(url, headers=headers, params = {\"vs_currency\":\"usd\", \"days\": 365})\n",
        "    data = response.json()\n",
        "    df_price = pd.DataFrame(data['prices'] , columns=['unix_timestamp', 'price'])\n",
        "    df_mcap = pd.DataFrame(data['market_caps'] , columns=['unix_timestamp', 'market_cap'])\n",
        "    df_vol = pd.DataFrame(data['total_volumes'] , columns=['unix_timestamp', 'vol_24hr'])\n",
        "\n",
        "    df = df_price.merge(df_mcap, on='unix_timestamp').merge(df_vol, on='unix_timestamp')\n",
        "\n",
        "    df['date'] = pd.to_datetime(df['unix_timestamp'], unit='ms').dt.date\n",
        "    df['ticker'] = ticker\n",
        "    if ticker == 'BTC':\n",
        "      df['type'] = 'BTC'\n",
        "    elif ticker == 'ETH':\n",
        "      df['type'] = 'ETH'\n",
        "    else:\n",
        "      df['type'] = 'Altcoin'\n",
        "    df.drop(columns='unix_timestamp', inplace=True)\n",
        "    df_coins.append(df)\n",
        "\n",
        "df = pd.concat(df_coins).reset_index()\n",
        "df.drop(columns = 'index', inplace = True)\n",
        "df.sort_values(['ticker','date']).reset_index(drop = True)\n",
        "df = df[df['date'] < date.today() ]\n"
      ],
      "metadata": {
        "id": "uV8JLXIRTkqH"
      },
      "execution_count": null,
      "outputs": []
    },
    {
      "cell_type": "markdown",
      "source": [
        "**Calculating Daily and 7-Day Rolling Returns**"
      ],
      "metadata": {
        "id": "b4l-wKRI1zRO"
      }
    },
    {
      "cell_type": "code",
      "source": [
        "df_returns = df\n",
        "df_returns['daily_return'] = df_returns.groupby('ticker')['price'].pct_change() *100\n",
        "df_returns['rolling_returns'] = df_returns.groupby('ticker')['daily_return'].rolling(window=7).mean().reset_index(level=0, drop=True)\n",
        "df_returns.dropna(inplace = True)"
      ],
      "metadata": {
        "id": "L_RucUNfF-ih"
      },
      "execution_count": null,
      "outputs": []
    },
    {
      "cell_type": "code",
      "source": [
        "df_returns.to_csv('crypto_returns.csv', index=False)"
      ],
      "metadata": {
        "id": "eOwrM79sLSJ3"
      },
      "execution_count": null,
      "outputs": []
    },
    {
      "cell_type": "markdown",
      "source": [
        "**Calculating Daily and 7-Day Rolling Returns, taking into consideration Altcoin 'weights' based on the market cap**"
      ],
      "metadata": {
        "id": "LrDOb5O51-MO"
      }
    },
    {
      "cell_type": "code",
      "source": [
        "df_weighted_returns = df_returns\n",
        "if ('BTC', 'ETH') in df_weighted_returns['type']:\n",
        "    df_weighted_returns['weight'] = 1\n",
        "else:\n",
        "    df_weighted_returns['weight'] = df_weighted_returns['market_cap'] / df.groupby(['date', 'type'])['market_cap'].transform('sum')\n"
      ],
      "metadata": {
        "id": "m1IUDWKLtuJQ"
      },
      "execution_count": null,
      "outputs": []
    },
    {
      "cell_type": "code",
      "source": [
        "df_weighted_returns['weighted_return'] = df_weighted_returns['daily_return'] * df['weight']\n",
        "df_weighted_returns['weighted_rolling_return'] = df_weighted_returns['rolling_returns'] * df['weight']\n",
        "df_weighted_returns = df_weighted_returns.groupby(['date', 'type'])[['weighted_return', 'weighted_rolling_return']].sum().reset_index()"
      ],
      "metadata": {
        "id": "KhT1YOM5xcyL"
      },
      "execution_count": null,
      "outputs": []
    },
    {
      "cell_type": "code",
      "source": [
        "df_weighted_returns.to_csv('crypto_weighted_returns.csv', index = False)"
      ],
      "metadata": {
        "id": "LhXc1oN7zm3d"
      },
      "execution_count": null,
      "outputs": []
    },
    {
      "cell_type": "markdown",
      "source": [
        "**Calculating % Market Cap of total market for assets covered in analysis**"
      ],
      "metadata": {
        "id": "uDCU1Fc62KM1"
      }
    },
    {
      "cell_type": "code",
      "source": [
        "df_mcap = df\n",
        "df_mcap = df_mcap.groupby(['type', 'date'])['market_cap'].sum().reset_index()\n",
        "df_mcap['total_daily_mcap'] = df_mcap.groupby('date')['market_cap'].transform('sum')\n",
        "df_mcap['daily_%_mcap'] = (df_mcap['market_cap'] / df_mcap['total_daily_mcap'] * 100.0).round(2)\n"
      ],
      "metadata": {
        "colab": {
          "base_uri": "https://localhost:8080/",
          "height": 206
        },
        "id": "iQN19_capEpD",
        "outputId": "33790200-639d-4142-9d5a-aee4ac6af376"
      },
      "execution_count": null,
      "outputs": [
        {
          "output_type": "execute_result",
          "data": {
            "text/plain": [
              "      type        date    market_cap  total_daily_mcap  daily_%_mcap\n",
              "0  Altcoin  2024-09-30  2.681038e+11      1.886076e+12         14.21\n",
              "1  Altcoin  2024-10-01  2.556639e+11      1.817819e+12         14.06\n",
              "2  Altcoin  2024-10-02  2.457048e+11      1.743876e+12         14.09\n",
              "3  Altcoin  2024-10-03  2.383836e+11      1.721657e+12         13.85\n",
              "4  Altcoin  2024-10-04  2.355147e+11      1.718608e+12         13.70"
            ],
            "text/html": [
              "\n",
              "  <div id=\"df-6b46689f-45c4-427d-af58-09fe58fd5517\" class=\"colab-df-container\">\n",
              "    <div>\n",
              "<style scoped>\n",
              "    .dataframe tbody tr th:only-of-type {\n",
              "        vertical-align: middle;\n",
              "    }\n",
              "\n",
              "    .dataframe tbody tr th {\n",
              "        vertical-align: top;\n",
              "    }\n",
              "\n",
              "    .dataframe thead th {\n",
              "        text-align: right;\n",
              "    }\n",
              "</style>\n",
              "<table border=\"1\" class=\"dataframe\">\n",
              "  <thead>\n",
              "    <tr style=\"text-align: right;\">\n",
              "      <th></th>\n",
              "      <th>type</th>\n",
              "      <th>date</th>\n",
              "      <th>market_cap</th>\n",
              "      <th>total_daily_mcap</th>\n",
              "      <th>daily_%_mcap</th>\n",
              "    </tr>\n",
              "  </thead>\n",
              "  <tbody>\n",
              "    <tr>\n",
              "      <th>0</th>\n",
              "      <td>Altcoin</td>\n",
              "      <td>2024-09-30</td>\n",
              "      <td>2.681038e+11</td>\n",
              "      <td>1.886076e+12</td>\n",
              "      <td>14.21</td>\n",
              "    </tr>\n",
              "    <tr>\n",
              "      <th>1</th>\n",
              "      <td>Altcoin</td>\n",
              "      <td>2024-10-01</td>\n",
              "      <td>2.556639e+11</td>\n",
              "      <td>1.817819e+12</td>\n",
              "      <td>14.06</td>\n",
              "    </tr>\n",
              "    <tr>\n",
              "      <th>2</th>\n",
              "      <td>Altcoin</td>\n",
              "      <td>2024-10-02</td>\n",
              "      <td>2.457048e+11</td>\n",
              "      <td>1.743876e+12</td>\n",
              "      <td>14.09</td>\n",
              "    </tr>\n",
              "    <tr>\n",
              "      <th>3</th>\n",
              "      <td>Altcoin</td>\n",
              "      <td>2024-10-03</td>\n",
              "      <td>2.383836e+11</td>\n",
              "      <td>1.721657e+12</td>\n",
              "      <td>13.85</td>\n",
              "    </tr>\n",
              "    <tr>\n",
              "      <th>4</th>\n",
              "      <td>Altcoin</td>\n",
              "      <td>2024-10-04</td>\n",
              "      <td>2.355147e+11</td>\n",
              "      <td>1.718608e+12</td>\n",
              "      <td>13.70</td>\n",
              "    </tr>\n",
              "  </tbody>\n",
              "</table>\n",
              "</div>\n",
              "    <div class=\"colab-df-buttons\">\n",
              "\n",
              "  <div class=\"colab-df-container\">\n",
              "    <button class=\"colab-df-convert\" onclick=\"convertToInteractive('df-6b46689f-45c4-427d-af58-09fe58fd5517')\"\n",
              "            title=\"Convert this dataframe to an interactive table.\"\n",
              "            style=\"display:none;\">\n",
              "\n",
              "  <svg xmlns=\"http://www.w3.org/2000/svg\" height=\"24px\" viewBox=\"0 -960 960 960\">\n",
              "    <path d=\"M120-120v-720h720v720H120Zm60-500h600v-160H180v160Zm220 220h160v-160H400v160Zm0 220h160v-160H400v160ZM180-400h160v-160H180v160Zm440 0h160v-160H620v160ZM180-180h160v-160H180v160Zm440 0h160v-160H620v160Z\"/>\n",
              "  </svg>\n",
              "    </button>\n",
              "\n",
              "  <style>\n",
              "    .colab-df-container {\n",
              "      display:flex;\n",
              "      gap: 12px;\n",
              "    }\n",
              "\n",
              "    .colab-df-convert {\n",
              "      background-color: #E8F0FE;\n",
              "      border: none;\n",
              "      border-radius: 50%;\n",
              "      cursor: pointer;\n",
              "      display: none;\n",
              "      fill: #1967D2;\n",
              "      height: 32px;\n",
              "      padding: 0 0 0 0;\n",
              "      width: 32px;\n",
              "    }\n",
              "\n",
              "    .colab-df-convert:hover {\n",
              "      background-color: #E2EBFA;\n",
              "      box-shadow: 0px 1px 2px rgba(60, 64, 67, 0.3), 0px 1px 3px 1px rgba(60, 64, 67, 0.15);\n",
              "      fill: #174EA6;\n",
              "    }\n",
              "\n",
              "    .colab-df-buttons div {\n",
              "      margin-bottom: 4px;\n",
              "    }\n",
              "\n",
              "    [theme=dark] .colab-df-convert {\n",
              "      background-color: #3B4455;\n",
              "      fill: #D2E3FC;\n",
              "    }\n",
              "\n",
              "    [theme=dark] .colab-df-convert:hover {\n",
              "      background-color: #434B5C;\n",
              "      box-shadow: 0px 1px 3px 1px rgba(0, 0, 0, 0.15);\n",
              "      filter: drop-shadow(0px 1px 2px rgba(0, 0, 0, 0.3));\n",
              "      fill: #FFFFFF;\n",
              "    }\n",
              "  </style>\n",
              "\n",
              "    <script>\n",
              "      const buttonEl =\n",
              "        document.querySelector('#df-6b46689f-45c4-427d-af58-09fe58fd5517 button.colab-df-convert');\n",
              "      buttonEl.style.display =\n",
              "        google.colab.kernel.accessAllowed ? 'block' : 'none';\n",
              "\n",
              "      async function convertToInteractive(key) {\n",
              "        const element = document.querySelector('#df-6b46689f-45c4-427d-af58-09fe58fd5517');\n",
              "        const dataTable =\n",
              "          await google.colab.kernel.invokeFunction('convertToInteractive',\n",
              "                                                    [key], {});\n",
              "        if (!dataTable) return;\n",
              "\n",
              "        const docLinkHtml = 'Like what you see? Visit the ' +\n",
              "          '<a target=\"_blank\" href=https://colab.research.google.com/notebooks/data_table.ipynb>data table notebook</a>'\n",
              "          + ' to learn more about interactive tables.';\n",
              "        element.innerHTML = '';\n",
              "        dataTable['output_type'] = 'display_data';\n",
              "        await google.colab.output.renderOutput(dataTable, element);\n",
              "        const docLink = document.createElement('div');\n",
              "        docLink.innerHTML = docLinkHtml;\n",
              "        element.appendChild(docLink);\n",
              "      }\n",
              "    </script>\n",
              "  </div>\n",
              "\n",
              "\n",
              "    <div id=\"df-ebd20996-b22b-4d5a-92c8-1fcbdf6cae39\">\n",
              "      <button class=\"colab-df-quickchart\" onclick=\"quickchart('df-ebd20996-b22b-4d5a-92c8-1fcbdf6cae39')\"\n",
              "                title=\"Suggest charts\"\n",
              "                style=\"display:none;\">\n",
              "\n",
              "<svg xmlns=\"http://www.w3.org/2000/svg\" height=\"24px\"viewBox=\"0 0 24 24\"\n",
              "     width=\"24px\">\n",
              "    <g>\n",
              "        <path d=\"M19 3H5c-1.1 0-2 .9-2 2v14c0 1.1.9 2 2 2h14c1.1 0 2-.9 2-2V5c0-1.1-.9-2-2-2zM9 17H7v-7h2v7zm4 0h-2V7h2v10zm4 0h-2v-4h2v4z\"/>\n",
              "    </g>\n",
              "</svg>\n",
              "      </button>\n",
              "\n",
              "<style>\n",
              "  .colab-df-quickchart {\n",
              "      --bg-color: #E8F0FE;\n",
              "      --fill-color: #1967D2;\n",
              "      --hover-bg-color: #E2EBFA;\n",
              "      --hover-fill-color: #174EA6;\n",
              "      --disabled-fill-color: #AAA;\n",
              "      --disabled-bg-color: #DDD;\n",
              "  }\n",
              "\n",
              "  [theme=dark] .colab-df-quickchart {\n",
              "      --bg-color: #3B4455;\n",
              "      --fill-color: #D2E3FC;\n",
              "      --hover-bg-color: #434B5C;\n",
              "      --hover-fill-color: #FFFFFF;\n",
              "      --disabled-bg-color: #3B4455;\n",
              "      --disabled-fill-color: #666;\n",
              "  }\n",
              "\n",
              "  .colab-df-quickchart {\n",
              "    background-color: var(--bg-color);\n",
              "    border: none;\n",
              "    border-radius: 50%;\n",
              "    cursor: pointer;\n",
              "    display: none;\n",
              "    fill: var(--fill-color);\n",
              "    height: 32px;\n",
              "    padding: 0;\n",
              "    width: 32px;\n",
              "  }\n",
              "\n",
              "  .colab-df-quickchart:hover {\n",
              "    background-color: var(--hover-bg-color);\n",
              "    box-shadow: 0 1px 2px rgba(60, 64, 67, 0.3), 0 1px 3px 1px rgba(60, 64, 67, 0.15);\n",
              "    fill: var(--button-hover-fill-color);\n",
              "  }\n",
              "\n",
              "  .colab-df-quickchart-complete:disabled,\n",
              "  .colab-df-quickchart-complete:disabled:hover {\n",
              "    background-color: var(--disabled-bg-color);\n",
              "    fill: var(--disabled-fill-color);\n",
              "    box-shadow: none;\n",
              "  }\n",
              "\n",
              "  .colab-df-spinner {\n",
              "    border: 2px solid var(--fill-color);\n",
              "    border-color: transparent;\n",
              "    border-bottom-color: var(--fill-color);\n",
              "    animation:\n",
              "      spin 1s steps(1) infinite;\n",
              "  }\n",
              "\n",
              "  @keyframes spin {\n",
              "    0% {\n",
              "      border-color: transparent;\n",
              "      border-bottom-color: var(--fill-color);\n",
              "      border-left-color: var(--fill-color);\n",
              "    }\n",
              "    20% {\n",
              "      border-color: transparent;\n",
              "      border-left-color: var(--fill-color);\n",
              "      border-top-color: var(--fill-color);\n",
              "    }\n",
              "    30% {\n",
              "      border-color: transparent;\n",
              "      border-left-color: var(--fill-color);\n",
              "      border-top-color: var(--fill-color);\n",
              "      border-right-color: var(--fill-color);\n",
              "    }\n",
              "    40% {\n",
              "      border-color: transparent;\n",
              "      border-right-color: var(--fill-color);\n",
              "      border-top-color: var(--fill-color);\n",
              "    }\n",
              "    60% {\n",
              "      border-color: transparent;\n",
              "      border-right-color: var(--fill-color);\n",
              "    }\n",
              "    80% {\n",
              "      border-color: transparent;\n",
              "      border-right-color: var(--fill-color);\n",
              "      border-bottom-color: var(--fill-color);\n",
              "    }\n",
              "    90% {\n",
              "      border-color: transparent;\n",
              "      border-bottom-color: var(--fill-color);\n",
              "    }\n",
              "  }\n",
              "</style>\n",
              "\n",
              "      <script>\n",
              "        async function quickchart(key) {\n",
              "          const quickchartButtonEl =\n",
              "            document.querySelector('#' + key + ' button');\n",
              "          quickchartButtonEl.disabled = true;  // To prevent multiple clicks.\n",
              "          quickchartButtonEl.classList.add('colab-df-spinner');\n",
              "          try {\n",
              "            const charts = await google.colab.kernel.invokeFunction(\n",
              "                'suggestCharts', [key], {});\n",
              "          } catch (error) {\n",
              "            console.error('Error during call to suggestCharts:', error);\n",
              "          }\n",
              "          quickchartButtonEl.classList.remove('colab-df-spinner');\n",
              "          quickchartButtonEl.classList.add('colab-df-quickchart-complete');\n",
              "        }\n",
              "        (() => {\n",
              "          let quickchartButtonEl =\n",
              "            document.querySelector('#df-ebd20996-b22b-4d5a-92c8-1fcbdf6cae39 button');\n",
              "          quickchartButtonEl.style.display =\n",
              "            google.colab.kernel.accessAllowed ? 'block' : 'none';\n",
              "        })();\n",
              "      </script>\n",
              "    </div>\n",
              "\n",
              "    </div>\n",
              "  </div>\n"
            ],
            "application/vnd.google.colaboratory.intrinsic+json": {
              "type": "dataframe",
              "variable_name": "df_mcap",
              "summary": "{\n  \"name\": \"df_mcap\",\n  \"rows\": 1071,\n  \"fields\": [\n    {\n      \"column\": \"type\",\n      \"properties\": {\n        \"dtype\": \"category\",\n        \"num_unique_values\": 3,\n        \"samples\": [\n          \"Altcoin\",\n          \"BTC\",\n          \"ETH\"\n        ],\n        \"semantic_type\": \"\",\n        \"description\": \"\"\n      }\n    },\n    {\n      \"column\": \"date\",\n      \"properties\": {\n        \"dtype\": \"date\",\n        \"min\": \"2024-09-30\",\n        \"max\": \"2025-09-21\",\n        \"num_unique_values\": 357,\n        \"samples\": [\n          \"2025-05-10\",\n          \"2024-11-11\",\n          \"2025-07-18\"\n        ],\n        \"semantic_type\": \"\",\n        \"description\": \"\"\n      }\n    },\n    {\n      \"column\": \"market_cap\",\n      \"properties\": {\n        \"dtype\": \"number\",\n        \"std\": 745248152548.6259,\n        \"min\": 177496121145.5316,\n        \"max\": 2458895200752.567,\n        \"num_unique_values\": 1071,\n        \"samples\": [\n          381009230907.6158,\n          1923251765866.1472,\n          517838098553.87115\n        ],\n        \"semantic_type\": \"\",\n        \"description\": \"\"\n      }\n    },\n    {\n      \"column\": \"total_daily_mcap\",\n      \"properties\": {\n        \"dtype\": \"number\",\n        \"std\": 458266142475.22705,\n        \"min\": 1716833518839.5625,\n        \"max\": 3617718963349.9785,\n        \"num_unique_values\": 357,\n        \"samples\": [\n          2776714986356.6133,\n          2305397181679.004,\n          3347688771512.5747\n        ],\n        \"semantic_type\": \"\",\n        \"description\": \"\"\n      }\n    },\n    {\n      \"column\": \"daily_%_mcap\",\n      \"properties\": {\n        \"dtype\": \"number\",\n        \"std\": 26.672058711604,\n        \"min\": 8.26,\n        \"max\": 75.77,\n        \"num_unique_values\": 755,\n        \"samples\": [\n          68.87,\n          67.19,\n          15.4\n        ],\n        \"semantic_type\": \"\",\n        \"description\": \"\"\n      }\n    }\n  ]\n}"
            }
          },
          "metadata": {},
          "execution_count": 51
        }
      ]
    },
    {
      "cell_type": "code",
      "source": [
        "df_mcap.to_csv('crypto_coin_dominance.csv', index=False)"
      ],
      "metadata": {
        "id": "nWhWgmNDwCXk"
      },
      "execution_count": null,
      "outputs": []
    },
    {
      "cell_type": "markdown",
      "source": [
        "**Calculating Volume**"
      ],
      "metadata": {
        "id": "bXMQdpq_3rpo"
      }
    }
  ]
}